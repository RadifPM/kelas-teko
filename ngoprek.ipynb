{
 "cells": [
  {
   "cell_type": "markdown",
   "metadata": {},
   "source": [
    "# Lieur\n",
    "**PLS KAPAN LIBUR??**\n",
    "\n",
    "`Besok ga si`\n",
    "\n",
    "*mimpi kali*\n",
    "\n"
   ]
  },
  {
   "cell_type": "markdown",
   "metadata": {},
   "source": [
    "1.  Mathematics \n",
    "    *  Calculus\n",
    "    *  Fisika\n",
    "    *  Trigonometri\n",
    "\n",
    "Link: \n",
    "[Telkom University](telkomuniversity.ac.id)\n",
    "\n",
    "| Operator Python | Deskripsi |\n",
    "| :---: | :---: |\n",
    "| `+` | penjumlahan |\n",
    "| `-` | pengurangan |\n",
    "| `*` | perkalian |\n",
    "| `/` | pembagian |\n",
    "| `**` | pemangkatan |\n",
    "\n",
    "$$f'(a) = \\lim_{x \\to a} \\frac{f(x) - f(a)}{x-a}$$\n",
    "\n"
   ]
  },
  {
   "cell_type": "code",
   "execution_count": 2,
   "metadata": {},
   "outputs": [
    {
     "name": "stdout",
     "output_type": "stream",
     "text": [
      "6\n"
     ]
    }
   ],
   "source": [
    "b = 3 + 3\n",
    "print(b)"
   ]
  },
  {
   "cell_type": "code",
   "execution_count": null,
   "metadata": {},
   "outputs": [],
   "source": [
    "import numpy as np\n",
    "a = np.sin(np.pi)\n",
    "print(a)"
   ]
  }
 ],
 "metadata": {
  "kernelspec": {
   "display_name": "Python 3",
   "language": "python",
   "name": "python3"
  },
  "language_info": {
   "codemirror_mode": {
    "name": "ipython",
    "version": 3
   },
   "file_extension": ".py",
   "mimetype": "text/x-python",
   "name": "python",
   "nbconvert_exporter": "python",
   "pygments_lexer": "ipython3",
   "version": "3.11.9"
  }
 },
 "nbformat": 4,
 "nbformat_minor": 2
}
