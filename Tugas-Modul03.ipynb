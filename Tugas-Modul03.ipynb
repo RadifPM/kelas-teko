{
 "cells": [
  {
   "cell_type": "markdown",
   "metadata": {},
   "source": [
    "# Pencarian Akar Persamaan Non-Linear: Metode Regula Falsi dan Metode Secant\n",
    "\n",
    "## 1. Metode Regula Falsi (False Position)\n",
    "\n",
    "### Pendahuluan / Motivasi\n",
    "Metode Regula Falsi adalah metode numerik yang digunakan untuk menemukan akar-akar dari suatu persamaan non-linear. Metode ini menggabungkan keunggulan dari metode Bisection (pembatasan akar) dan metode Newton-Raphson (pendekatan lebih cepat). Kelebihan metode ini adalah lebih cepat konvergen dibandingkan Bisection pada kasus tertentu, dan tetap menjaga akar berada dalam interval yang dibatasi.\n",
    "\n",
    "### Algoritma dan Pseudocode\n",
    "1. Tentukan batas awal `a` dan `b` sehingga f(a) * f(b) < 0\n",
    "2. Hitung `c = a - f(a)*(b - a) / (f(b) - f(a))`\n",
    "3. Evaluasi `f(c)`\n",
    "4. Jika |f(c)| < toleransi atau jumlah iterasi maksimal tercapai, maka `c` adalah akar\n",
    "5. Jika f(a) * f(c) < 0, maka `b = c`, else `a = c`\n",
    "6. Ulangi langkah 2\n",
    "\n",
    "```python\n",
    "# Pseudocode\n",
    "while |f(c)| > tolerance and iter < max_iter:\n",
    "    c = a - f(a) * (b - a) / (f(b) - f(a))\n",
    "    if f(a) * f(c) < 0:\n",
    "        b = c\n",
    "    else:\n",
    "        a = c\n"
   ]
  },
  {
   "cell_type": "code",
   "execution_count": null,
   "metadata": {},
   "outputs": [
    {
     "ename": "ZeroDivisionError",
     "evalue": "float division by zero",
     "output_type": "error",
     "traceback": [
      "\u001b[1;31m---------------------------------------------------------------------------\u001b[0m",
      "\u001b[1;31mZeroDivisionError\u001b[0m                         Traceback (most recent call last)",
      "Cell \u001b[1;32mIn[37], line 19\u001b[0m\n\u001b[0;32m     14\u001b[0m f \u001b[38;5;241m=\u001b[39m \u001b[38;5;28;01mlambda\u001b[39;00m f: \u001b[38;5;241m2\u001b[39m \u001b[38;5;241m*\u001b[39m math\u001b[38;5;241m.\u001b[39mpi \u001b[38;5;241m*\u001b[39m L \u001b[38;5;241m-\u001b[39m \u001b[38;5;241m1\u001b[39m \u001b[38;5;241m/\u001b[39m (\u001b[38;5;241m2\u001b[39m \u001b[38;5;241m*\u001b[39m math\u001b[38;5;241m.\u001b[39mpi \u001b[38;5;241m*\u001b[39m f\u001b[38;5;241m*\u001b[39m\u001b[38;5;241m*\u001b[39m\u001b[38;5;241m2\u001b[39m \u001b[38;5;241m*\u001b[39m k)\n\u001b[0;32m     18\u001b[0m \u001b[38;5;66;03m# Regula Falsi\u001b[39;00m\n\u001b[1;32m---> 19\u001b[0m root_rf, iter_rf \u001b[38;5;241m=\u001b[39m \u001b[43mregula_falsi\u001b[49m\u001b[43m(\u001b[49m\u001b[43mf\u001b[49m\u001b[43m,\u001b[49m\u001b[43m \u001b[49m\u001b[38;5;241;43m0\u001b[39;49m\u001b[43m,\u001b[49m\u001b[43m \u001b[49m\u001b[38;5;241;43m5\u001b[39;49m\u001b[43m)\u001b[49m\n\u001b[0;32m     20\u001b[0m \u001b[38;5;28mprint\u001b[39m(\u001b[38;5;124mf\u001b[39m\u001b[38;5;124m\"\u001b[39m\u001b[38;5;124mRegula Falsi root: \u001b[39m\u001b[38;5;132;01m{\u001b[39;00mroot_rf\u001b[38;5;132;01m}\u001b[39;00m\u001b[38;5;124m in \u001b[39m\u001b[38;5;132;01m{\u001b[39;00miter_rf\u001b[38;5;132;01m}\u001b[39;00m\u001b[38;5;124m iterations\u001b[39m\u001b[38;5;124m\"\u001b[39m)\n",
      "Cell \u001b[1;32mIn[37], line 3\u001b[0m, in \u001b[0;36mregula_falsi\u001b[1;34m(f, a, b, tol, max_iter)\u001b[0m\n\u001b[0;32m      1\u001b[0m \u001b[38;5;28;01mdef\u001b[39;00m \u001b[38;5;21mregula_falsi\u001b[39m(f, a, b, tol\u001b[38;5;241m=\u001b[39m\u001b[38;5;241m1e-6\u001b[39m, max_iter\u001b[38;5;241m=\u001b[39m\u001b[38;5;241m100\u001b[39m):\n\u001b[0;32m      2\u001b[0m     \u001b[38;5;28;01mfor\u001b[39;00m i \u001b[38;5;129;01min\u001b[39;00m \u001b[38;5;28mrange\u001b[39m(max_iter):\n\u001b[1;32m----> 3\u001b[0m         c \u001b[38;5;241m=\u001b[39m a \u001b[38;5;241m-\u001b[39m \u001b[43mf\u001b[49m\u001b[43m(\u001b[49m\u001b[43ma\u001b[49m\u001b[43m)\u001b[49m \u001b[38;5;241m*\u001b[39m (b \u001b[38;5;241m-\u001b[39m a) \u001b[38;5;241m/\u001b[39m (f(b) \u001b[38;5;241m-\u001b[39m f(a))\n\u001b[0;32m      4\u001b[0m         \u001b[38;5;28;01mif\u001b[39;00m \u001b[38;5;28mabs\u001b[39m(f(c)) \u001b[38;5;241m<\u001b[39m tol:\n\u001b[0;32m      5\u001b[0m             \u001b[38;5;28;01mreturn\u001b[39;00m c, i\n",
      "Cell \u001b[1;32mIn[37], line 14\u001b[0m, in \u001b[0;36m<lambda>\u001b[1;34m(f)\u001b[0m\n\u001b[0;32m     12\u001b[0m \u001b[38;5;28;01mimport\u001b[39;00m \u001b[38;5;21;01mmath\u001b[39;00m\n\u001b[0;32m     13\u001b[0m L, k \u001b[38;5;241m=\u001b[39m \u001b[38;5;241m0.05\u001b[39m, \u001b[38;5;241m100e-6\u001b[39m\n\u001b[1;32m---> 14\u001b[0m f \u001b[38;5;241m=\u001b[39m \u001b[38;5;28;01mlambda\u001b[39;00m f: \u001b[38;5;241m2\u001b[39m \u001b[38;5;241m*\u001b[39m math\u001b[38;5;241m.\u001b[39mpi \u001b[38;5;241m*\u001b[39m L \u001b[38;5;241m-\u001b[39m \u001b[38;5;241;43m1\u001b[39;49m\u001b[43m \u001b[49m\u001b[38;5;241;43m/\u001b[39;49m\u001b[43m \u001b[49m\u001b[43m(\u001b[49m\u001b[38;5;241;43m2\u001b[39;49m\u001b[43m \u001b[49m\u001b[38;5;241;43m*\u001b[39;49m\u001b[43m \u001b[49m\u001b[43mmath\u001b[49m\u001b[38;5;241;43m.\u001b[39;49m\u001b[43mpi\u001b[49m\u001b[43m \u001b[49m\u001b[38;5;241;43m*\u001b[39;49m\u001b[43m \u001b[49m\u001b[43mf\u001b[49m\u001b[38;5;241;43m*\u001b[39;49m\u001b[38;5;241;43m*\u001b[39;49m\u001b[38;5;241;43m2\u001b[39;49m\u001b[43m \u001b[49m\u001b[38;5;241;43m*\u001b[39;49m\u001b[43m \u001b[49m\u001b[43mk\u001b[49m\u001b[43m)\u001b[49m\n\u001b[0;32m     18\u001b[0m \u001b[38;5;66;03m# Regula Falsi\u001b[39;00m\n\u001b[0;32m     19\u001b[0m root_rf, iter_rf \u001b[38;5;241m=\u001b[39m regula_falsi(f, \u001b[38;5;241m0\u001b[39m, \u001b[38;5;241m5\u001b[39m)\n",
      "\u001b[1;31mZeroDivisionError\u001b[0m: float division by zero"
     ]
    }
   ],
   "source": [
    "def regula_falsi(f, a, b, tol=1e-6, max_iter=100):\n",
    "    for i in range(max_iter):\n",
    "        c = a - f(a) * (b - a) / (f(b) - f(a))\n",
    "        if abs(f(c)) < tol:\n",
    "            return c, i\n",
    "        elif f(a) * f(c) < 0:\n",
    "            b = c\n",
    "        else:\n",
    "            a = c\n",
    "    return c, max_iter\n",
    "\n",
    "m, g, rho, Cd, A = 0.2, 9.81, 1.225, 0.47, 0.01\n",
    "f = lambda v: m * g - 0.5 * rho * Cd * A * v**2\n",
    "\n",
    "\n",
    "\n",
    "\n",
    "# Regula Falsi\n",
    "root_rf, iter_rf = regula_falsi(f, 0, 5)\n",
    "print(f\"Regula Falsi root: {root_rf} in {iter_rf} iterations\")\n"
   ]
  },
  {
   "cell_type": "markdown",
   "metadata": {},
   "source": [
    "\n",
    "## 2. Metode Secant\n",
    "\n",
    "### Pendahuluan / Motivasi\n",
    "Metode Secant adalah metode numerik terbuka untuk mencari akar yang menggunakan dua titik awal tanpa memerlukan turunan seperti pada Newton-Raphson. Metode ini sering digunakan saat turunan fungsi sulit dihitung.\n",
    "\n",
    "### Algoritma dan Pseudocode\n",
    "1. Tentukan dua tebakan awal `x0` dan `x1`\n",
    "2. Hitung `x2 = x1 - f(x1) * (x1 - x0) / (f(x1) - f(x0))`\n",
    "4. Perbarui `x0` = `x1` dan `x1` = `x2`\n",
    "5. Ulangi sampai `|f(x2)|` < toleransi atau iterasi maksimal tercapai\n",
    "\n",
    "# Pseudocode\n",
    "```python\n",
    "while |f(x1)| > tolerance and iter < max_iter:\n",
    "    x2 = x1 - f(x1) * (x1 - x0) / (f(x1) - f(x0))\n",
    "    x0, x1 = x1, x2\n"
   ]
  },
  {
   "cell_type": "code",
   "execution_count": null,
   "metadata": {},
   "outputs": [
    {
     "name": "stdout",
     "output_type": "stream",
     "text": [
      "Secant root: 26.106432317126117 in 8 iterations\n"
     ]
    }
   ],
   "source": [
    "def secant(f, x0, x1, tol=1e-6, max_iter=100):\n",
    "    for i in range(max_iter):\n",
    "        if f(x1) - f(x0) == 0:\n",
    "            return None, i\n",
    "        x2 = x1 - f(x1) * (x1 - x0) / (f(x1) - f(x0))\n",
    "        if abs(f(x2)) < tol:\n",
    "            return x2, i\n",
    "        x0, x1 = x1, x2\n",
    "    return x2, max_iter\n",
    "\n",
    "q, E, B = 1.6e-19, 100, 0.5  # dalam satuan SI\n",
    "f = lambda v: q * E - q * v * B  # akar pada v = E / B\n",
    "\n",
    "\n",
    "\n",
    "# Secant\n",
    "root_sec, iter_sec = secant(f, 0, 5)\n",
    "print(f\"Secant root: {root_sec} in {iter_sec} iterations\")\n"
   ]
  }
 ],
 "metadata": {
  "kernelspec": {
   "display_name": "Python 3",
   "language": "python",
   "name": "python3"
  },
  "language_info": {
   "codemirror_mode": {
    "name": "ipython",
    "version": 3
   },
   "file_extension": ".py",
   "mimetype": "text/x-python",
   "name": "python",
   "nbconvert_exporter": "python",
   "pygments_lexer": "ipython3",
   "version": "3.11.9"
  }
 },
 "nbformat": 4,
 "nbformat_minor": 2
}
