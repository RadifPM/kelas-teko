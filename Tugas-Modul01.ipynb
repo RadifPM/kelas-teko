{
 "cells": [
  {
   "cell_type": "markdown",
   "metadata": {},
   "source": [
    "### 5 Situs Web yang sering saya kunjungi: \n",
    "1.  [Roblox](www.roblox.com)\n",
    "2.  [Youtube](www.youtube.com)\n",
    "3.  [I-Gracias Telkom University](https://igracias.telkomuniversity.ac.id/#)\n",
    "4.  [LMS Telkom University](https://lms.telkomuniversity.ac.id/login/index.php)\n",
    "\n",
    "5.  [ChatGPT](https://chatgpt.com/)"
   ]
  },
  {
   "cell_type": "markdown",
   "metadata": {},
   "source": [
    "![Oppenheimer](https://asset.kompas.com/crops/HJ-DmnSEfBfZ5XSU7SSW9qowO1Y=/0x76:2382x1664/1200x800/data/photo/2023/07/21/64ba5d417d512.jpg)\n",
    "### Julius Robert Oppenheimer\n",
    "Julius Robert Oppenheimer (1904–1967) adalah seorang fisikawan teoretis Amerika yang dikenal sebagai \"bapak bom atom\" karena perannya dalam Proyek Manhattan selama Perang Dunia II. Lahir di New York City, Oppenheimer menunjukkan kecerdasan luar biasa sejak usia muda, mempelajari kimia di Universitas Harvard sebelum beralih ke fisika teoretis. Setelah menyelesaikan doktoralnya di Universitas Göttingen di bawah bimbingan Max Born, ia kembali ke Amerika Serikat dan menjadi profesor di Universitas California, Berkeley, serta Institut Teknologi California. Selama periode ini, Oppenheimer membuat kontribusi signifikan dalam astrofisika, fisika nuklir, spektroskopi, dan teori medan kuantum. Pada tahun 1942, ia ditunjuk sebagai direktur ilmiah Laboratorium Los Alamos, pusat utama pengembangan senjata nuklir dalam Proyek Manhattan. Di bawah kepemimpinannya, tim ilmuwan berhasil mengembangkan dan menguji bom atom pertama pada Juli 1945, yang kemudian digunakan dalam pengeboman Hiroshima dan Nagasaki. Setelah perang, Oppenheimer menjadi advokat untuk kontrol internasional atas energi nuklir dan menentang pengembangan bom hidrogen. Namun, pandangan politiknya dan hubungan masa lalunya dengan individu yang terkait dengan Partai Komunis menyebabkan pencabutan izin keamanannya pada tahun 1954, yang secara efektif mengakhiri perannya dalam kebijakan pemerintah. Meskipun demikian, kontribusinya terhadap ilmu pengetahuan tetap diakui, dan pada tahun 1963, ia dianugerahi Enrico Fermi Award sebagai pengakuan atas jasanya. Oppenheimer meninggal pada tahun 1967, tetapi warisannya sebagai ilmuwan dan pemikir yang kompleks terus dikenang.\n",
    "\n",
    "Sumber: https://www.britannica.com/biography/J-Robert-Oppenheimer"
   ]
  },
  {
   "cell_type": "markdown",
   "metadata": {},
   "source": [
    "| Kode Mata Kuliah| Nama Mata Kuliah | Kode Dosen | \n",
    "| :---: | :---: | :---: |\n",
    "| `ADK2FAB3` | Gelombang dan Akustika | SPI |\n",
    "| `ADK2IAB3` | Elektronika Digital | IDC |\n",
    "| `ADK2LAB1` | Praktikum Teknik Fisika 2 | IDC |\n",
    "| `ADK2MAB3` | Teknik Komputasi | RWG |\n",
    "| `ADK2HAB3` | Mekanika Fluida | YDH |\n",
    "| `ADK2JAB3` | Analisis Termal | MRK |\n",
    "| `ADK2KAB3` | Fungsi Kompleks | SWI |"
   ]
  },
  {
   "cell_type": "markdown",
   "metadata": {},
   "source": [
    "$\\cos(\\alpha \\pm \\beta) = \\cos \\alpha \\cos \\beta \\mp \\sin \\alpha \\sin \\beta$"
   ]
  },
  {
   "cell_type": "markdown",
   "metadata": {},
   "source": [
    "$\\int \\frac{1}{1+x^2}\\mathrm{d}x = \\arctan x + C$"
   ]
  },
  {
   "cell_type": "markdown",
   "metadata": {},
   "source": [
    "$\\frac{\\partial \\mathbf{u}}{\\partial t} + (\\mathbf{u}  \\cdot \\nabla)\\mathbf{u} - \\nu \\nabla^2\\mathbf{u} = - \\nabla w + \\mathbf{g}$"
   ]
  },
  {
   "cell_type": "markdown",
   "metadata": {},
   "source": [
    "$\\sum_{n=0}^{\\infty} \\frac{f^{(n)}(a)}{n!}(x - a)^n$\t"
   ]
  },
  {
   "cell_type": "markdown",
   "metadata": {},
   "source": [
    "$$\n",
    "\\begin{bmatrix} \n",
    "a & b \n",
    "\\\\ \n",
    "c & d \n",
    "\\end{bmatrix}^{-1} = \\frac{1}{ad - bc} \\begin{bmatrix} \n",
    "d & -b \n",
    "\\\\ \n",
    "-c & a \n",
    "\\end{bmatrix}\n",
    "$$"
   ]
  },
  {
   "cell_type": "code",
   "execution_count": 1,
   "metadata": {},
   "outputs": [
    {
     "name": "stdout",
     "output_type": "stream",
     "text": [
      "Aproksimasi Taylor orde 2 untuk cos(pi/3): 0.451689\n",
      "Nilai eksak cos(pi/3): 0.500000\n",
      "Galat pemotongan (sisa Lagrange): 0.165754\n",
      "Galat absolut: 0.048311\n",
      "Aproksimasi tidak diterima karena galat lebih besar dari toleransi.\n"
     ]
    }
   ],
   "source": [
    "import math\n",
    "\n",
    "# Fungsi untuk menghitung aproksimasi Taylor orde 2\n",
    "def taylor_cos_approx(x):\n",
    "    return 1 - (x**2) / 2\n",
    "\n",
    "# Fungsi untuk menghitung galat pemotongan menggunakan sisa Lagrange\n",
    "def truncation_error(x):\n",
    "    xi = x  # Asumsi nilai ξ = x untuk estimasi maksimum\n",
    "    remainder = (\n",
    "    math.sin(xi) / math.factorial(3)) * (x**3)\n",
    "    return abs(remainder)\n",
    "\n",
    "# Parameter\n",
    "x = math.pi / 3  # x = π/3\n",
    "actual_cos = math.cos(x)  # Nilai eksak cos(π/3)\n",
    "approx_cos = taylor_cos_approx(x)  # Nilai aproksimasi\n",
    "t_error = truncation_error(x)  # Galat pemotongan\n",
    "absolute_error = abs(actual_cos - approx_cos)  # Selisih antara aproksimasi dan nilai eksak\n",
    "\n",
    "# Menampilkan hasil\n",
    "print(f\"Aproksimasi Taylor orde 2 untuk cos(pi/3): {approx_cos:.6f}\")\n",
    "print(f\"Nilai eksak cos(pi/3): {actual_cos:.6f}\")\n",
    "print(f\"Galat pemotongan (sisa Lagrange): {t_error:.6f}\")\n",
    "print(f\"Galat absolut: {absolute_error:.6f}\")\n",
    "\n",
    "# Evaluasi apakah aproksimasi diterima\n",
    "tolerance = 1e-4\n",
    "if absolute_error < tolerance:\n",
    "    print(\"Aproksimasi diterima karena galat lebih kecil dari toleransi.\")\n",
    "else:\n",
    "    print(\"Aproksimasi tidak diterima karena galat lebih besar dari toleransi.\")"
   ]
  },
  {
   "cell_type": "code",
   "execution_count": 4,
   "metadata": {},
   "outputs": [
    {
     "name": "stdout",
     "output_type": "stream",
     "text": [
      "Bilangan: 7.25\n",
      "Representasi IEEE 754 (32-bit): 01000000111010000000000000000000\n",
      "Tanda: 0\n",
      "Eksponen: 10000001 (Desimal: 129)\n",
      "Mantisa: 11010000000000000000000\n"
     ]
    }
   ],
   "source": [
    "import struct\n",
    "\n",
    "def float_to_ieee754(num):\n",
    "    \"\"\"Mengonversi bilangan floating-point ke format IEEE 754 (32-bit)\"\"\"\n",
    "    # Gunakan struct untuk mendapatkan representasi biner dalam bentuk integer\n",
    "    packed = struct.pack('!f', num)  # '!' untuk big-endian, 'f' untuk float 32-bit\n",
    "    binary = ''.join(f'{byte:08b}' for byte in packed)  # Konversi ke biner\n",
    "    \n",
    "    # Pisahkan menjadi tiga komponen: tanda, eksponen, dan mantisa\n",
    "    sign = binary[0]  # Bit pertama adalah tanda\n",
    "    exponent = binary[1:9]  # 8 bit berikutnya adalah eksponen\n",
    "    mantissa = binary[9:]  # 23 bit terakhir adalah mantisa\n",
    "    \n",
    "    return sign, exponent, mantissa, binary\n",
    "\n",
    "# Contoh penggunaan\n",
    "num = 7.25\n",
    "sign, exponent, mantissa, binary_repr = float_to_ieee754(num)\n",
    "\n",
    "print(f\"Bilangan: {num}\")\n",
    "print(f\"Representasi IEEE 754 (32-bit): {binary_repr}\")\n",
    "print(f\"Tanda: {sign}\")\n",
    "print(f\"Eksponen: {exponent} (Desimal: {int(exponent, 2)})\")\n",
    "print(f\"Mantisa: {mantissa}\")"
   ]
  }
 ],
 "metadata": {
  "kernelspec": {
   "display_name": "Python 3",
   "language": "python",
   "name": "python3"
  },
  "language_info": {
   "codemirror_mode": {
    "name": "ipython",
    "version": 3
   },
   "file_extension": ".py",
   "mimetype": "text/x-python",
   "name": "python",
   "nbconvert_exporter": "python",
   "pygments_lexer": "ipython3",
   "version": "3.11.9"
  }
 },
 "nbformat": 4,
 "nbformat_minor": 2
}
